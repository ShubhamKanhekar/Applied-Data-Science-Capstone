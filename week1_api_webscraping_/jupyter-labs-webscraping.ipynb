{
 "cells": [
  {
   "cell_type": "markdown",
   "metadata": {},
   "source": [
    "<p style=\"text-align:center\">\n",
    "    <a href=\"https://skills.network\" target=\"_blank\">\n",
    "    <img src=\"https://cf-courses-data.s3.us.cloud-object-storage.appdomain.cloud/assets/logos/SN_web_lightmode.png\" width=\"200\" alt=\"Skills Network Logo\">\n",
    "    </a>\n",
    "</p>\n"
   ]
  },
  {
   "cell_type": "markdown",
   "metadata": {},
   "source": [
    "# **Space X  Falcon 9 First Stage Landing Prediction**\n"
   ]
  },
  {
   "cell_type": "markdown",
   "metadata": {},
   "source": [
    "## Web scraping Falcon 9 and Falcon Heavy Launches Records from Wikipedia\n"
   ]
  },
  {
   "cell_type": "markdown",
   "metadata": {},
   "source": [
    "Estimated time needed: **40** minutes\n"
   ]
  },
  {
   "cell_type": "markdown",
   "metadata": {},
   "source": [
    "In this lab, you will be performing web scraping to collect Falcon 9 historical launch records from a Wikipedia page titled `List of Falcon 9 and Falcon Heavy launches`\n",
    "\n",
    "https://en.wikipedia.org/wiki/List_of_Falcon_9_and_Falcon_Heavy_launches\n"
   ]
  },
  {
   "cell_type": "markdown",
   "metadata": {},
   "source": [
    "![](https://cf-courses-data.s3.us.cloud-object-storage.appdomain.cloud/IBM-DS0321EN-SkillsNetwork/labs/module_1_L2/images/Falcon9_rocket_family.svg)\n"
   ]
  },
  {
   "cell_type": "markdown",
   "metadata": {},
   "source": [
    "Falcon 9 first stage will land successfully\n"
   ]
  },
  {
   "cell_type": "markdown",
   "metadata": {},
   "source": [
    "![](https://cf-courses-data.s3.us.cloud-object-storage.appdomain.cloud/IBMDeveloperSkillsNetwork-DS0701EN-SkillsNetwork/api/Images/landing_1.gif)\n"
   ]
  },
  {
   "cell_type": "markdown",
   "metadata": {},
   "source": [
    "Several examples of an unsuccessful landing are shown here:\n"
   ]
  },
  {
   "cell_type": "markdown",
   "metadata": {},
   "source": [
    "![](https://cf-courses-data.s3.us.cloud-object-storage.appdomain.cloud/IBMDeveloperSkillsNetwork-DS0701EN-SkillsNetwork/api/Images/crash.gif)\n"
   ]
  },
  {
   "cell_type": "markdown",
   "metadata": {},
   "source": [
    "More specifically, the launch records are stored in a HTML table shown below:\n"
   ]
  },
  {
   "cell_type": "markdown",
   "metadata": {},
   "source": [
    "![](https://cf-courses-data.s3.us.cloud-object-storage.appdomain.cloud/IBM-DS0321EN-SkillsNetwork/labs/module_1_L2/images/falcon9-launches-wiki.png)\n"
   ]
  },
  {
   "cell_type": "markdown",
   "metadata": {},
   "source": [
    "  ## Objectives\n",
    "Web scrap Falcon 9 launch records with `BeautifulSoup`: \n",
    "- Extract a Falcon 9 launch records HTML table from Wikipedia\n",
    "- Parse the table and convert it into a Pandas data frame\n"
   ]
  },
  {
   "cell_type": "markdown",
   "metadata": {},
   "source": [
    "First let's import required packages for this lab\n"
   ]
  },
  {
   "cell_type": "code",
   "execution_count": 1,
   "metadata": {
    "tags": []
   },
   "outputs": [
    {
     "name": "stdout",
     "output_type": "stream",
     "text": [
      "Requirement already satisfied: beautifulsoup4 in /home/jupyterlab/conda/envs/python/lib/python3.7/site-packages (4.11.1)\n",
      "Requirement already satisfied: soupsieve>1.2 in /home/jupyterlab/conda/envs/python/lib/python3.7/site-packages (from beautifulsoup4) (2.3.2.post1)\n",
      "Requirement already satisfied: requests in /home/jupyterlab/conda/envs/python/lib/python3.7/site-packages (2.29.0)\n",
      "Requirement already satisfied: charset-normalizer<4,>=2 in /home/jupyterlab/conda/envs/python/lib/python3.7/site-packages (from requests) (3.1.0)\n",
      "Requirement already satisfied: idna<4,>=2.5 in /home/jupyterlab/conda/envs/python/lib/python3.7/site-packages (from requests) (3.4)\n",
      "Requirement already satisfied: urllib3<1.27,>=1.21.1 in /home/jupyterlab/conda/envs/python/lib/python3.7/site-packages (from requests) (1.26.15)\n",
      "Requirement already satisfied: certifi>=2017.4.17 in /home/jupyterlab/conda/envs/python/lib/python3.7/site-packages (from requests) (2023.5.7)\n"
     ]
    }
   ],
   "source": [
    "!pip3 install beautifulsoup4\n",
    "!pip3 install requests"
   ]
  },
  {
   "cell_type": "code",
   "execution_count": 2,
   "metadata": {
    "tags": []
   },
   "outputs": [
    {
     "name": "stdout",
     "output_type": "stream",
     "text": [
      "done\n"
     ]
    }
   ],
   "source": [
    "import sys\n",
    "\n",
    "import requests\n",
    "from bs4 import BeautifulSoup\n",
    "import re\n",
    "import unicodedata\n",
    "import pandas as pd\n",
    "print('done')"
   ]
  },
  {
   "cell_type": "markdown",
   "metadata": {},
   "source": [
    "and we will provide some helper functions for you to process web scraped HTML table\n"
   ]
  },
  {
   "cell_type": "code",
   "execution_count": 3,
   "metadata": {
    "tags": []
   },
   "outputs": [],
   "source": [
    "def date_time(table_cells):\n",
    "    \"\"\"\n",
    "    This function returns the data and time from the HTML  table cell\n",
    "    Input: the  element of a table data cell extracts extra row\n",
    "    \"\"\"\n",
    "    return [data_time.strip() for data_time in list(table_cells.strings)][0:2]\n",
    "\n",
    "def booster_version(table_cells):\n",
    "    \"\"\"\n",
    "    This function returns the booster version from the HTML  table cell \n",
    "    Input: the  element of a table data cell extracts extra row\n",
    "    \"\"\"\n",
    "    out=''.join([booster_version for i,booster_version in enumerate( table_cells.strings) if i%2==0][0:-1])\n",
    "    return out\n",
    "\n",
    "def landing_status(table_cells):\n",
    "    \"\"\"\n",
    "    This function returns the landing status from the HTML table cell \n",
    "    Input: the  element of a table data cell extracts extra row\n",
    "    \"\"\"\n",
    "    out=[i for i in table_cells.strings][0]\n",
    "    return out\n",
    "\n",
    "\n",
    "def get_mass(table_cells):\n",
    "    mass=unicodedata.normalize(\"NFKD\", table_cells.text).strip()\n",
    "    if mass:\n",
    "        mass.find(\"kg\")\n",
    "        new_mass=mass[0:mass.find(\"kg\")+2]\n",
    "    else:\n",
    "        new_mass=0\n",
    "    return new_mass\n",
    "\n",
    "\n",
    "def extract_column_from_header(row):\n",
    "    \"\"\"\n",
    "    This function returns the landing status from the HTML table cell \n",
    "    Input: the  element of a table data cell extracts extra row\n",
    "    \"\"\"\n",
    "    if (row.br):\n",
    "        row.br.extract()\n",
    "    if row.a:\n",
    "        row.a.extract()\n",
    "    if row.sup:\n",
    "        row.sup.extract()\n",
    "        \n",
    "    colunm_name = ' '.join(row.contents)\n",
    "    \n",
    "    # Filter the digit and empty names\n",
    "    if not(colunm_name.strip().isdigit()):\n",
    "        colunm_name = colunm_name.strip()\n",
    "        return colunm_name    \n"
   ]
  },
  {
   "cell_type": "markdown",
   "metadata": {},
   "source": [
    "To keep the lab tasks consistent, you will be asked to scrape the data from a snapshot of the  `List of Falcon 9 and Falcon Heavy launches` Wikipage updated on\n",
    "`9th June 2021`\n"
   ]
  },
  {
   "cell_type": "code",
   "execution_count": 4,
   "metadata": {
    "tags": []
   },
   "outputs": [],
   "source": [
    "static_url = \"https://en.wikipedia.org/w/index.php?title=List_of_Falcon_9_and_Falcon_Heavy_launches&oldid=1027686922\""
   ]
  },
  {
   "cell_type": "markdown",
   "metadata": {},
   "source": [
    "Next, request the HTML page from the above URL and get a `response` object\n"
   ]
  },
  {
   "cell_type": "markdown",
   "metadata": {},
   "source": [
    "### TASK 1: Request the Falcon9 Launch Wiki page from its URL\n"
   ]
  },
  {
   "cell_type": "markdown",
   "metadata": {},
   "source": [
    "First, let's perform an HTTP GET method to request the Falcon9 Launch HTML page, as an HTTP response.\n"
   ]
  },
  {
   "cell_type": "code",
   "execution_count": 5,
   "metadata": {
    "tags": []
   },
   "outputs": [],
   "source": [
    "# use requests.get() method with the provided static_url\n",
    "# assign the response to a object\n",
    "response= requests.get(static_url)"
   ]
  },
  {
   "cell_type": "markdown",
   "metadata": {},
   "source": [
    "Create a `BeautifulSoup` object from the HTML `response`\n"
   ]
  },
  {
   "cell_type": "code",
   "execution_count": 6,
   "metadata": {
    "tags": []
   },
   "outputs": [],
   "source": [
    "# Use BeautifulSoup() to create a BeautifulSoup object from a response text content\n",
    "soup= BeautifulSoup(response.content)"
   ]
  },
  {
   "cell_type": "markdown",
   "metadata": {},
   "source": [
    "Print the page title to verify if the `BeautifulSoup` object was created properly \n"
   ]
  },
  {
   "cell_type": "code",
   "execution_count": 7,
   "metadata": {
    "tags": []
   },
   "outputs": [
    {
     "data": {
      "text/plain": [
       "<title>List of Falcon 9 and Falcon Heavy launches - Wikipedia</title>"
      ]
     },
     "execution_count": 7,
     "metadata": {},
     "output_type": "execute_result"
    }
   ],
   "source": [
    "# Use soup.title attribute\n",
    "soup.title"
   ]
  },
  {
   "cell_type": "markdown",
   "metadata": {},
   "source": [
    "### TASK 2: Extract all column/variable names from the HTML table header\n"
   ]
  },
  {
   "cell_type": "markdown",
   "metadata": {},
   "source": [
    "Next, we want to collect all relevant column names from the HTML table header\n"
   ]
  },
  {
   "cell_type": "markdown",
   "metadata": {},
   "source": [
    "Let's try to find all tables on the wiki page first. If you need to refresh your memory about `BeautifulSoup`, please check the external reference link towards the end of this lab\n"
   ]
  },
  {
   "cell_type": "code",
   "execution_count": 8,
   "metadata": {
    "tags": []
   },
   "outputs": [],
   "source": [
    "# Use the find_all function in the BeautifulSoup object, with element type `table`\n",
    "# Assign the result to a list called `html_tables`\n",
    "html_tables=list(soup.find_all('table'))\n",
    "# print(len(html_tables))\n"
   ]
  },
  {
   "cell_type": "markdown",
   "metadata": {},
   "source": [
    "Starting from the third table is our target table contains the actual launch records.\n"
   ]
  },
  {
   "cell_type": "code",
   "execution_count": 9,
   "metadata": {
    "tags": []
   },
   "outputs": [
    {
     "name": "stdout",
     "output_type": "stream",
     "text": [
      "<table class=\"wikitable plainrowheaders collapsible\" style=\"width: 100%;\">\n",
      "<tbody><tr>\n",
      "<th scope=\"col\">Flight No.\n",
      "</th>\n",
      "<th scope=\"col\">Date and<br/>time (<a href=\"/wiki/Coordinated_Universal_Time\" title=\"Coordinated Universal Time\">UTC</a>)\n",
      "</th>\n",
      "<th scope=\"col\"><a href=\"/wiki/List_of_Falcon_9_first-stage_boosters\" title=\"List of Falcon 9 first-stage boosters\">Version,<br/>Booster</a> <sup class=\"reference\" id=\"cite_ref-booster_11-0\"><a href=\"#cite_note-booster-11\">[b]</a></sup>\n",
      "</th>\n",
      "<th scope=\"col\">Launch site\n",
      "</th>\n",
      "<th scope=\"col\">Payload<sup class=\"reference\" id=\"cite_ref-Dragon_12-0\"><a href=\"#cite_note-Dragon-12\">[c]</a></sup>\n",
      "</th>\n",
      "<th scope=\"col\">Payload mass\n",
      "</th>\n",
      "<th scope=\"col\">Orbit\n",
      "</th>\n",
      "<th scope=\"col\">Customer\n",
      "</th>\n",
      "<th scope=\"col\">Launch<br/>outcome\n",
      "</th>\n",
      "<th scope=\"col\"><a href=\"/wiki/Falcon_9_first-stage_landing_tests\" title=\"Falcon 9 first-stage landing tests\">Booster<br/>landing</a>\n",
      "</th></tr>\n",
      "<tr>\n",
      "<th rowspan=\"2\" scope=\"row\" style=\"text-align:center;\">1\n",
      "</th>\n",
      "<td>4 June 2010,<br/>18:45\n",
      "</td>\n",
      "<td><a href=\"/wiki/Falcon_9_v1.0\" title=\"Falcon 9 v1.0\">F9 v1.0</a><sup class=\"reference\" id=\"cite_ref-MuskMay2012_13-0\"><a href=\"#cite_note-MuskMay2012-13\">[7]</a></sup><br/>B0003.1<sup class=\"reference\" id=\"cite_ref-block_numbers_14-0\"><a href=\"#cite_note-block_numbers-14\">[8]</a></sup>\n",
      "</td>\n",
      "<td><a href=\"/wiki/Cape_Canaveral_Space_Force_Station\" title=\"Cape Canaveral Space Force Station\">CCAFS</a>,<br/><a href=\"/wiki/Cape_Canaveral_Space_Launch_Complex_40\" title=\"Cape Canaveral Space Launch Complex 40\">SLC-40</a>\n",
      "</td>\n",
      "<td><a href=\"/wiki/Dragon_Spacecraft_Qualification_Unit\" title=\"Dragon Spacecraft Qualification Unit\">Dragon Spacecraft Qualification Unit</a>\n",
      "</td>\n",
      "<td>\n",
      "</td>\n",
      "<td><a href=\"/wiki/Low_Earth_orbit\" title=\"Low Earth orbit\">LEO</a>\n",
      "</td>\n",
      "<td><a href=\"/wiki/SpaceX\" title=\"SpaceX\">SpaceX</a>\n",
      "</td>\n",
      "<td class=\"table-success\" style=\"background: #9EFF9E; vertical-align: middle; text-align: center;\">Success\n",
      "</td>\n",
      "<td class=\"table-failure\" style=\"background: #FFC7C7; vertical-align: middle; text-align: center;\">Failure<sup class=\"reference\" id=\"cite_ref-ns20110930_15-0\"><a href=\"#cite_note-ns20110930-15\">[9]</a></sup><sup class=\"reference\" id=\"cite_ref-16\"><a href=\"#cite_note-16\">[10]</a></sup><br/><small>(parachute)</small>\n",
      "</td></tr>\n",
      "<tr>\n",
      "<td colspan=\"9\">First flight of Falcon 9 v1.0.<sup class=\"reference\" id=\"cite_ref-sfn20100604_17-0\"><a href=\"#cite_note-sfn20100604-17\">[11]</a></sup> Used a boilerplate version of Dragon capsule which was not designed to separate from the second stage.<small>(<a href=\"#First_flight_of_Falcon_9\">more details below</a>)</small> Attempted to recover the first stage by parachuting it into the ocean, but it burned up on reentry, before the parachutes even deployed.<sup class=\"reference\" id=\"cite_ref-parachute_18-0\"><a href=\"#cite_note-parachute-18\">[12]</a></sup>\n",
      "</td></tr>\n",
      "<tr>\n",
      "<th rowspan=\"2\" scope=\"row\" style=\"text-align:center;\">2\n",
      "</th>\n",
      "<td>8 December 2010,<br/>15:43<sup class=\"reference\" id=\"cite_ref-spaceflightnow_Clark_Launch_Report_19-0\"><a href=\"#cite_note-spaceflightnow_Clark_Launch_Report-19\">[13]</a></sup>\n",
      "</td>\n",
      "<td><a href=\"/wiki/Falcon_9_v1.0\" title=\"Falcon 9 v1.0\">F9 v1.0</a><sup class=\"reference\" id=\"cite_ref-MuskMay2012_13-1\"><a href=\"#cite_note-MuskMay2012-13\">[7]</a></sup><br/>B0004.1<sup class=\"reference\" id=\"cite_ref-block_numbers_14-1\"><a href=\"#cite_note-block_numbers-14\">[8]</a></sup>\n",
      "</td>\n",
      "<td><a href=\"/wiki/Cape_Canaveral_Space_Force_Station\" title=\"Cape Canaveral Space Force Station\">CCAFS</a>,<br/><a href=\"/wiki/Cape_Canaveral_Space_Launch_Complex_40\" title=\"Cape Canaveral Space Launch Complex 40\">SLC-40</a>\n",
      "</td>\n",
      "<td><a href=\"/wiki/SpaceX_Dragon\" title=\"SpaceX Dragon\">Dragon</a> <a class=\"mw-redirect\" href=\"/wiki/COTS_Demo_Flight_1\" title=\"COTS Demo Flight 1\">demo flight C1</a><br/>(Dragon C101)\n",
      "</td>\n",
      "<td>\n",
      "</td>\n",
      "<td><a href=\"/wiki/Low_Earth_orbit\" title=\"Low Earth orbit\">LEO</a> (<a href=\"/wiki/International_Space_Station\" title=\"International Space Station\">ISS</a>)\n",
      "</td>\n",
      "<td><style data-mw-deduplicate=\"TemplateStyles:r1126788409\">.mw-parser-output .plainlist ol,.mw-parser-output .plainlist ul{line-height:inherit;list-style:none;margin:0;padding:0}.mw-parser-output .plainlist ol li,.mw-parser-output .plainlist ul li{margin-bottom:0}</style><div class=\"plainlist\">\n",
      "<ul><li><a href=\"/wiki/NASA\" title=\"NASA\">NASA</a> (<a href=\"/wiki/Commercial_Orbital_Transportation_Services\" title=\"Commercial Orbital Transportation Services\">COTS</a>)</li>\n",
      "<li><a href=\"/wiki/National_Reconnaissance_Office\" title=\"National Reconnaissance Office\">NRO</a></li></ul>\n",
      "</div>\n",
      "</td>\n",
      "<td class=\"table-success\" style=\"background: #9EFF9E; vertical-align: middle; text-align: center;\">Success<sup class=\"reference\" id=\"cite_ref-ns20110930_15-1\"><a href=\"#cite_note-ns20110930-15\">[9]</a></sup>\n",
      "</td>\n",
      "<td class=\"table-failure\" style=\"background: #FFC7C7; vertical-align: middle; text-align: center;\">Failure<sup class=\"reference\" id=\"cite_ref-ns20110930_15-2\"><a href=\"#cite_note-ns20110930-15\">[9]</a></sup><sup class=\"reference\" id=\"cite_ref-20\"><a href=\"#cite_note-20\">[14]</a></sup><br/><small>(parachute)</small>\n",
      "</td></tr>\n",
      "<tr>\n",
      "<td colspan=\"9\">Maiden flight of <a class=\"mw-redirect\" href=\"/wiki/Dragon_capsule\" title=\"Dragon capsule\">Dragon capsule</a>, consisting of over 3 hours of testing thruster maneuvering and reentry.<sup class=\"reference\" id=\"cite_ref-spaceflightnow_Clark_unleashing_Dragon_21-0\"><a href=\"#cite_note-spaceflightnow_Clark_unleashing_Dragon-21\">[15]</a></sup> Attempted to recover the first stage by parachuting it into the ocean, but it disintegrated upon reentry, before the parachutes were deployed.<sup class=\"reference\" id=\"cite_ref-parachute_18-1\"><a href=\"#cite_note-parachute-18\">[12]</a></sup> <small>(<a href=\"#COTS_demo_missions\">more details below</a>)</small> It also included two <a href=\"/wiki/CubeSat\" title=\"CubeSat\">CubeSats</a>,<sup class=\"reference\" id=\"cite_ref-NRO_Taps_Boeing_for_Next_Batch_of_CubeSats_22-0\"><a href=\"#cite_note-NRO_Taps_Boeing_for_Next_Batch_of_CubeSats-22\">[16]</a></sup> and a wheel of <a href=\"/wiki/Brou%C3%A8re\" title=\"Brouère\">Brouère</a> cheese.\n",
      "</td></tr>\n",
      "<tr>\n",
      "<th rowspan=\"2\" scope=\"row\" style=\"text-align:center;\">3\n",
      "</th>\n",
      "<td>22 May 2012,<br/>07:44<sup class=\"reference\" id=\"cite_ref-BBC_new_era_23-0\"><a href=\"#cite_note-BBC_new_era-23\">[17]</a></sup>\n",
      "</td>\n",
      "<td><a href=\"/wiki/Falcon_9_v1.0\" title=\"Falcon 9 v1.0\">F9 v1.0</a><sup class=\"reference\" id=\"cite_ref-MuskMay2012_13-2\"><a href=\"#cite_note-MuskMay2012-13\">[7]</a></sup><br/>B0005.1<sup class=\"reference\" id=\"cite_ref-block_numbers_14-2\"><a href=\"#cite_note-block_numbers-14\">[8]</a></sup>\n",
      "</td>\n",
      "<td><a href=\"/wiki/Cape_Canaveral_Space_Force_Station\" title=\"Cape Canaveral Space Force Station\">CCAFS</a>,<br/><a href=\"/wiki/Cape_Canaveral_Space_Launch_Complex_40\" title=\"Cape Canaveral Space Launch Complex 40\">SLC-40</a>\n",
      "</td>\n",
      "<td><a href=\"/wiki/SpaceX_Dragon\" title=\"SpaceX Dragon\">Dragon</a> <a class=\"mw-redirect\" href=\"/wiki/Dragon_C2%2B\" title=\"Dragon C2+\">demo flight C2+</a><sup class=\"reference\" id=\"cite_ref-C2_24-0\"><a href=\"#cite_note-C2-24\">[18]</a></sup><br/>(Dragon C102)\n",
      "</td>\n",
      "<td>525 kg (1,157 lb)<sup class=\"reference\" id=\"cite_ref-25\"><a href=\"#cite_note-25\">[19]</a></sup>\n",
      "</td>\n",
      "<td><a href=\"/wiki/Low_Earth_orbit\" title=\"Low Earth orbit\">LEO</a> (<a href=\"/wiki/International_Space_Station\" title=\"International Space Station\">ISS</a>)\n",
      "</td>\n",
      "<td><a href=\"/wiki/NASA\" title=\"NASA\">NASA</a> (<a href=\"/wiki/Commercial_Orbital_Transportation_Services\" title=\"Commercial Orbital Transportation Services\">COTS</a>)\n",
      "</td>\n",
      "<td class=\"table-success\" style=\"background: #9EFF9E; vertical-align: middle; text-align: center;\">Success<sup class=\"reference\" id=\"cite_ref-26\"><a href=\"#cite_note-26\">[20]</a></sup>\n",
      "</td>\n",
      "<td class=\"table-noAttempt\" style=\"background: #EEE; vertical-align: middle; white-space: nowrap; text-align: center;\">No attempt\n",
      "</td></tr>\n",
      "<tr>\n",
      "<td colspan=\"9\">Dragon spacecraft demonstrated a series of tests before it was allowed to approach the <a href=\"/wiki/International_Space_Station\" title=\"International Space Station\">International Space Station</a>. Two days later, it became the first commercial spacecraft to board the ISS.<sup class=\"reference\" id=\"cite_ref-BBC_new_era_23-1\"><a href=\"#cite_note-BBC_new_era-23\">[17]</a></sup> <small>(<a href=\"#COTS_demo_missions\">more details below</a>)</small>\n",
      "</td></tr>\n",
      "<tr>\n",
      "<th rowspan=\"3\" scope=\"row\" style=\"text-align:center;\">4\n",
      "</th>\n",
      "<td rowspan=\"2\">8 October 2012,<br/>00:35<sup class=\"reference\" id=\"cite_ref-SFN_LLog_27-0\"><a href=\"#cite_note-SFN_LLog-27\">[21]</a></sup>\n",
      "</td>\n",
      "<td rowspan=\"2\"><a href=\"/wiki/Falcon_9_v1.0\" title=\"Falcon 9 v1.0\">F9 v1.0</a><sup class=\"reference\" id=\"cite_ref-MuskMay2012_13-3\"><a href=\"#cite_note-MuskMay2012-13\">[7]</a></sup><br/>B0006.1<sup class=\"reference\" id=\"cite_ref-block_numbers_14-3\"><a href=\"#cite_note-block_numbers-14\">[8]</a></sup>\n",
      "</td>\n",
      "<td rowspan=\"2\"><a href=\"/wiki/Cape_Canaveral_Space_Force_Station\" title=\"Cape Canaveral Space Force Station\">CCAFS</a>,<br/><a href=\"/wiki/Cape_Canaveral_Space_Launch_Complex_40\" title=\"Cape Canaveral Space Launch Complex 40\">SLC-40</a>\n",
      "</td>\n",
      "<td><a href=\"/wiki/SpaceX_CRS-1\" title=\"SpaceX CRS-1\">SpaceX CRS-1</a><sup class=\"reference\" id=\"cite_ref-sxManifest20120925_28-0\"><a href=\"#cite_note-sxManifest20120925-28\">[22]</a></sup><br/>(Dragon C103)\n",
      "</td>\n",
      "<td>4,700 kg (10,400 lb)\n",
      "</td>\n",
      "<td><a href=\"/wiki/Low_Earth_orbit\" title=\"Low Earth orbit\">LEO</a> (<a href=\"/wiki/International_Space_Station\" title=\"International Space Station\">ISS</a>)\n",
      "</td>\n",
      "<td><a href=\"/wiki/NASA\" title=\"NASA\">NASA</a> (<a href=\"/wiki/Commercial_Resupply_Services\" title=\"Commercial Resupply Services\">CRS</a>)\n",
      "</td>\n",
      "<td class=\"table-success\" style=\"background: #9EFF9E; vertical-align: middle; text-align: center;\">Success\n",
      "</td>\n",
      "<td rowspan=\"2\" style=\"background:#ececec; text-align:center;\"><span class=\"nowrap\">No attempt</span>\n",
      "</td></tr>\n",
      "<tr>\n",
      "<td><a href=\"/wiki/Orbcomm_(satellite)\" title=\"Orbcomm (satellite)\">Orbcomm-OG2</a><sup class=\"reference\" id=\"cite_ref-Orbcomm_29-0\"><a href=\"#cite_note-Orbcomm-29\">[23]</a></sup>\n",
      "</td>\n",
      "<td>172 kg (379 lb)<sup class=\"reference\" id=\"cite_ref-gunter-og2_30-0\"><a href=\"#cite_note-gunter-og2-30\">[24]</a></sup>\n",
      "</td>\n",
      "<td><a href=\"/wiki/Low_Earth_orbit\" title=\"Low Earth orbit\">LEO</a>\n",
      "</td>\n",
      "<td><a href=\"/wiki/Orbcomm\" title=\"Orbcomm\">Orbcomm</a>\n",
      "</td>\n",
      "<td class=\"table-partial\" style=\"background: #FE9; vertical-align: middle; text-align: center;\">Partial failure<sup class=\"reference\" id=\"cite_ref-nyt-20121030_31-0\"><a href=\"#cite_note-nyt-20121030-31\">[25]</a></sup>\n",
      "</td></tr>\n",
      "<tr>\n",
      "<td colspan=\"9\">CRS-1 was successful, but the <a href=\"/wiki/Secondary_payload\" title=\"Secondary payload\">secondary payload</a> was inserted into an abnormally low orbit and subsequently lost. This was due to one of the nine <a href=\"/wiki/SpaceX_Merlin\" title=\"SpaceX Merlin\">Merlin engines</a> shutting down during the launch, and NASA declining a second reignition, as per <a href=\"/wiki/International_Space_Station\" title=\"International Space Station\">ISS</a> visiting vehicle safety rules, the primary payload owner is contractually allowed to decline a second reignition. NASA stated that this was because SpaceX could not guarantee a high enough likelihood of the second stage completing the second burn successfully which was required to avoid any risk of secondary payload's collision with the ISS.<sup class=\"reference\" id=\"cite_ref-OrbcommTotalLoss_32-0\"><a href=\"#cite_note-OrbcommTotalLoss-32\">[26]</a></sup><sup class=\"reference\" id=\"cite_ref-sn20121011_33-0\"><a href=\"#cite_note-sn20121011-33\">[27]</a></sup><sup class=\"reference\" id=\"cite_ref-34\"><a href=\"#cite_note-34\">[28]</a></sup>\n",
      "</td></tr>\n",
      "<tr>\n",
      "<th rowspan=\"2\" scope=\"row\" style=\"text-align:center;\">5\n",
      "</th>\n",
      "<td>1 March 2013,<br/>15:10\n",
      "</td>\n",
      "<td><a href=\"/wiki/Falcon_9_v1.0\" title=\"Falcon 9 v1.0\">F9 v1.0</a><sup class=\"reference\" id=\"cite_ref-MuskMay2012_13-4\"><a href=\"#cite_note-MuskMay2012-13\">[7]</a></sup><br/>B0007.1<sup class=\"reference\" id=\"cite_ref-block_numbers_14-4\"><a href=\"#cite_note-block_numbers-14\">[8]</a></sup>\n",
      "</td>\n",
      "<td><a href=\"/wiki/Cape_Canaveral_Space_Force_Station\" title=\"Cape Canaveral Space Force Station\">CCAFS</a>,<br/><a href=\"/wiki/Cape_Canaveral_Space_Launch_Complex_40\" title=\"Cape Canaveral Space Launch Complex 40\">SLC-40</a>\n",
      "</td>\n",
      "<td><a href=\"/wiki/SpaceX_CRS-2\" title=\"SpaceX CRS-2\">SpaceX CRS-2</a><sup class=\"reference\" id=\"cite_ref-sxManifest20120925_28-1\"><a href=\"#cite_note-sxManifest20120925-28\">[22]</a></sup><br/>(Dragon C104)\n",
      "</td>\n",
      "<td>4,877 kg (10,752 lb)\n",
      "</td>\n",
      "<td><a href=\"/wiki/Low_Earth_orbit\" title=\"Low Earth orbit\">LEO</a> (<a class=\"mw-redirect\" href=\"/wiki/ISS\" title=\"ISS\">ISS</a>)\n",
      "</td>\n",
      "<td><a href=\"/wiki/NASA\" title=\"NASA\">NASA</a> (<a href=\"/wiki/Commercial_Resupply_Services\" title=\"Commercial Resupply Services\">CRS</a>)\n",
      "</td>\n",
      "<td class=\"table-success\" style=\"background: #9EFF9E; vertical-align: middle; text-align: center;\">Success\n",
      "</td>\n",
      "<td class=\"table-noAttempt\" style=\"background: #EEE; vertical-align: middle; white-space: nowrap; text-align: center;\">No attempt\n",
      "</td></tr>\n",
      "<tr>\n",
      "<td colspan=\"9\">Last launch of the original Falcon 9 v1.0 <a href=\"/wiki/Launch_vehicle\" title=\"Launch vehicle\">launch vehicle</a>, first use of the unpressurized trunk section of Dragon.<sup class=\"reference\" id=\"cite_ref-sxf9_20110321_35-0\"><a href=\"#cite_note-sxf9_20110321-35\">[29]</a></sup>\n",
      "</td></tr>\n",
      "<tr>\n",
      "<th rowspan=\"2\" scope=\"row\" style=\"text-align:center;\">6\n",
      "</th>\n",
      "<td>29 September 2013,<br/>16:00<sup class=\"reference\" id=\"cite_ref-pa20130930_36-0\"><a href=\"#cite_note-pa20130930-36\">[30]</a></sup>\n",
      "</td>\n",
      "<td><a href=\"/wiki/Falcon_9_v1.1\" title=\"Falcon 9 v1.1\">F9 v1.1</a><sup class=\"reference\" id=\"cite_ref-MuskMay2012_13-5\"><a href=\"#cite_note-MuskMay2012-13\">[7]</a></sup><br/>B1003<sup class=\"reference\" id=\"cite_ref-block_numbers_14-5\"><a href=\"#cite_note-block_numbers-14\">[8]</a></sup>\n",
      "</td>\n",
      "<td><a class=\"mw-redirect\" href=\"/wiki/Vandenberg_Air_Force_Base\" title=\"Vandenberg Air Force Base\">VAFB</a>,<br/><a href=\"/wiki/Vandenberg_Space_Launch_Complex_4\" title=\"Vandenberg Space Launch Complex 4\">SLC-4E</a>\n",
      "</td>\n",
      "<td><a href=\"/wiki/CASSIOPE\" title=\"CASSIOPE\">CASSIOPE</a><sup class=\"reference\" id=\"cite_ref-sxManifest20120925_28-2\"><a href=\"#cite_note-sxManifest20120925-28\">[22]</a></sup><sup class=\"reference\" id=\"cite_ref-CASSIOPE_MDA_37-0\"><a href=\"#cite_note-CASSIOPE_MDA-37\">[31]</a></sup>\n",
      "</td>\n",
      "<td>500 kg (1,100 lb)\n",
      "</td>\n",
      "<td><a href=\"/wiki/Polar_orbit\" title=\"Polar orbit\">Polar orbit</a> <a href=\"/wiki/Low_Earth_orbit\" title=\"Low Earth orbit\">LEO</a>\n",
      "</td>\n",
      "<td><a href=\"/wiki/Maxar_Technologies\" title=\"Maxar Technologies\">MDA</a>\n",
      "</td>\n",
      "<td class=\"table-success\" style=\"background: #9EFF9E; vertical-align: middle; text-align: center;\">Success<sup class=\"reference\" id=\"cite_ref-pa20130930_36-1\"><a href=\"#cite_note-pa20130930-36\">[30]</a></sup>\n",
      "</td>\n",
      "<td class=\"table-no2\" style=\"background: #FFE3E3; color: black; vertical-align: middle; text-align: center;\">Uncontrolled<br/><small>(ocean)</small><sup class=\"reference\" id=\"cite_ref-ocean_landing_38-0\"><a href=\"#cite_note-ocean_landing-38\">[d]</a></sup>\n",
      "</td></tr>\n",
      "<tr>\n",
      "<td colspan=\"9\">First commercial mission with a private customer, first launch from Vandenberg, and demonstration flight of Falcon 9 v1.1 with an improved 13-tonne to LEO capacity.<sup class=\"reference\" id=\"cite_ref-sxf9_20110321_35-1\"><a href=\"#cite_note-sxf9_20110321-35\">[29]</a></sup> After separation from the second stage carrying Canadian commercial and scientific satellites, the first stage booster performed a controlled reentry,<sup class=\"reference\" id=\"cite_ref-39\"><a href=\"#cite_note-39\">[32]</a></sup> and an <a href=\"/wiki/Falcon_9_first-stage_landing_tests\" title=\"Falcon 9 first-stage landing tests\">ocean touchdown test</a> for the first time. This provided good test data, even though the booster started rolling as it neared the ocean, leading to the shutdown of the central engine as the roll depleted it of fuel, resulting in a hard impact with the ocean.<sup class=\"reference\" id=\"cite_ref-pa20130930_36-2\"><a href=\"#cite_note-pa20130930-36\">[30]</a></sup> This was the first known attempt of a rocket engine being lit to perform a supersonic retro propulsion, and allowed SpaceX to enter a public-private partnership with <a href=\"/wiki/NASA\" title=\"NASA\">NASA</a> and its Mars entry, descent, and landing technologies research projects.<sup class=\"reference\" id=\"cite_ref-40\"><a href=\"#cite_note-40\">[33]</a></sup> <small>(<a href=\"#Maiden_flight_of_v1.1\">more details below</a>)</small>\n",
      "</td></tr>\n",
      "<tr>\n",
      "<th rowspan=\"2\" scope=\"row\" style=\"text-align:center;\">7\n",
      "</th>\n",
      "<td>3 December 2013,<br/>22:41<sup class=\"reference\" id=\"cite_ref-sfn_wwls20130624_41-0\"><a href=\"#cite_note-sfn_wwls20130624-41\">[34]</a></sup>\n",
      "</td>\n",
      "<td><a href=\"/wiki/Falcon_9_v1.1\" title=\"Falcon 9 v1.1\">F9 v1.1</a><br/>B1004\n",
      "</td>\n",
      "<td><a href=\"/wiki/Cape_Canaveral_Space_Force_Station\" title=\"Cape Canaveral Space Force Station\">CCAFS</a>,<br/><a href=\"/wiki/Cape_Canaveral_Space_Launch_Complex_40\" title=\"Cape Canaveral Space Launch Complex 40\">SLC-40</a>\n",
      "</td>\n",
      "<td><a href=\"/wiki/SES-8\" title=\"SES-8\">SES-8</a><sup class=\"reference\" id=\"cite_ref-sxManifest20120925_28-3\"><a href=\"#cite_note-sxManifest20120925-28\">[22]</a></sup><sup class=\"reference\" id=\"cite_ref-spx-pr_42-0\"><a href=\"#cite_note-spx-pr-42\">[35]</a></sup><sup class=\"reference\" id=\"cite_ref-aw20110323_43-0\"><a href=\"#cite_note-aw20110323-43\">[36]</a></sup>\n",
      "</td>\n",
      "<td>3,170 kg (6,990 lb)\n",
      "</td>\n",
      "<td><a href=\"/wiki/Geostationary_transfer_orbit\" title=\"Geostationary transfer orbit\">GTO</a>\n",
      "</td>\n",
      "<td><a href=\"/wiki/SES_S.A.\" title=\"SES S.A.\">SES</a>\n",
      "</td>\n",
      "<td class=\"table-success\" style=\"background: #9EFF9E; vertical-align: middle; text-align: center;\">Success<sup class=\"reference\" id=\"cite_ref-SNMissionStatus7_44-0\"><a href=\"#cite_note-SNMissionStatus7-44\">[37]</a></sup>\n",
      "</td>\n",
      "<td class=\"table-noAttempt\" style=\"background: #EEE; vertical-align: middle; white-space: nowrap; text-align: center;\">No attempt<br/><sup class=\"reference\" id=\"cite_ref-sf10120131203_45-0\"><a href=\"#cite_note-sf10120131203-45\">[38]</a></sup>\n",
      "</td></tr>\n",
      "<tr>\n",
      "<td colspan=\"9\">First <a href=\"/wiki/Geostationary_transfer_orbit\" title=\"Geostationary transfer orbit\">Geostationary transfer orbit</a> (GTO) launch for Falcon 9,<sup class=\"reference\" id=\"cite_ref-spx-pr_42-1\"><a href=\"#cite_note-spx-pr-42\">[35]</a></sup> and first successful reignition of the second stage.<sup class=\"reference\" id=\"cite_ref-46\"><a href=\"#cite_note-46\">[39]</a></sup> SES-8 was inserted into a <a href=\"/wiki/Geostationary_transfer_orbit\" title=\"Geostationary transfer orbit\">Super-Synchronous Transfer Orbit</a> of 79,341 km (49,300 mi) in apogee with an <a href=\"/wiki/Orbital_inclination\" title=\"Orbital inclination\">inclination</a> of 20.55° to the <a href=\"/wiki/Equator\" title=\"Equator\">equator</a>.\n",
      "</td></tr></tbody></table>\n"
     ]
    }
   ],
   "source": [
    "# Let's print the third table and check its content\n",
    "first_launch_table = html_tables[2]\n",
    "print(first_launch_table)"
   ]
  },
  {
   "cell_type": "markdown",
   "metadata": {},
   "source": [
    "You should able to see the columns names embedded in the table header elements `<th>` as follows:\n"
   ]
  },
  {
   "cell_type": "markdown",
   "metadata": {},
   "source": [
    "```\n",
    "<tr>\n",
    "<th scope=\"col\">Flight No.\n",
    "</th>\n",
    "<th scope=\"col\">Date and<br/>time (<a href=\"/wiki/Coordinated_Universal_Time\" title=\"Coordinated Universal Time\">UTC</a>)\n",
    "</th>\n",
    "<th scope=\"col\"><a href=\"/wiki/List_of_Falcon_9_first-stage_boosters\" title=\"List of Falcon 9 first-stage boosters\">Version,<br/>Booster</a> <sup class=\"reference\" id=\"cite_ref-booster_11-0\"><a href=\"#cite_note-booster-11\">[b]</a></sup>\n",
    "</th>\n",
    "<th scope=\"col\">Launch site\n",
    "</th>\n",
    "<th scope=\"col\">Payload<sup class=\"reference\" id=\"cite_ref-Dragon_12-0\"><a href=\"#cite_note-Dragon-12\">[c]</a></sup>\n",
    "</th>\n",
    "<th scope=\"col\">Payload mass\n",
    "</th>\n",
    "<th scope=\"col\">Orbit\n",
    "</th>\n",
    "<th scope=\"col\">Customer\n",
    "</th>\n",
    "<th scope=\"col\">Launch<br/>outcome\n",
    "</th>\n",
    "<th scope=\"col\"><a href=\"/wiki/Falcon_9_first-stage_landing_tests\" title=\"Falcon 9 first-stage landing tests\">Booster<br/>landing</a>\n",
    "</th></tr>\n",
    "```\n"
   ]
  },
  {
   "cell_type": "markdown",
   "metadata": {},
   "source": [
    "Next, we just need to iterate through the `<th>` elements and apply the provided `extract_column_from_header()` to extract column name one by one\n"
   ]
  },
  {
   "cell_type": "code",
   "execution_count": 10,
   "metadata": {
    "tags": []
   },
   "outputs": [],
   "source": [
    "column_names = []\n",
    "\n",
    "# Apply find_all() function with `th` element on first_launch_table\n",
    "# Iterate each th element and apply the provided extract_column_from_header() to get a column name\n",
    "# Append the Non-empty column name (`if name is not None and len(name) > 0`) into a list called column_names\n",
    "for i in first_launch_table.find_all('th'):\n",
    "    name=extract_column_from_header(i)\n",
    "    if name!=None and len(name)>0:\n",
    "        column_names.append(name)\n",
    "# print(column_names)\n"
   ]
  },
  {
   "cell_type": "markdown",
   "metadata": {},
   "source": [
    "Check the extracted column names\n"
   ]
  },
  {
   "cell_type": "code",
   "execution_count": 22,
   "metadata": {
    "tags": []
   },
   "outputs": [
    {
     "name": "stdout",
     "output_type": "stream",
     "text": [
      "['Flight No.', 'Date and time ( )', 'Launch site', 'Payload', 'Payload mass', 'Orbit', 'Customer', 'Launch outcome']\n"
     ]
    }
   ],
   "source": [
    "print(column_names)"
   ]
  },
  {
   "cell_type": "markdown",
   "metadata": {},
   "source": [
    "## TASK 3: Create a data frame by parsing the launch HTML tables\n"
   ]
  },
  {
   "cell_type": "markdown",
   "metadata": {},
   "source": [
    "We will create an empty dictionary with keys from the extracted column names in the previous task. Later, this dictionary will be converted into a Pandas dataframe\n"
   ]
  },
  {
   "cell_type": "code",
   "execution_count": 32,
   "metadata": {
    "tags": []
   },
   "outputs": [],
   "source": [
    "launch_dict= dict.fromkeys(column_names)\n",
    "\n",
    "# Remove an irrelvant column\n",
    "del launch_dict['Date and time ( )']\n",
    "\n",
    "# Let's initial the launch_dict with each value to be an empty list\n",
    "launch_dict['Flight No.'] = []\n",
    "launch_dict['Launch site'] = []\n",
    "launch_dict['Payload'] = []\n",
    "launch_dict['Payload mass'] = []\n",
    "launch_dict['Orbit'] = []\n",
    "launch_dict['Customer'] = []\n",
    "launch_dict['Launch outcome'] = []\n",
    "# Added some new columns\n",
    "launch_dict['Version Booster']=[]\n",
    "launch_dict['Booster landing']=[]\n",
    "launch_dict['Date']=[]\n",
    "launch_dict['Time']=[]"
   ]
  },
  {
   "cell_type": "markdown",
   "metadata": {},
   "source": [
    "Next, we just need to fill up the `launch_dict` with launch records extracted from table rows.\n"
   ]
  },
  {
   "cell_type": "markdown",
   "metadata": {},
   "source": [
    "Usually, HTML tables in Wiki pages are likely to contain unexpected annotations and other types of noises, such as reference links `B0004.1[8]`, missing values `N/A [e]`, inconsistent formatting, etc.\n"
   ]
  },
  {
   "cell_type": "markdown",
   "metadata": {},
   "source": [
    "To simplify the parsing process, we have provided an incomplete code snippet below to help you to fill up the `launch_dict`. Please complete the following code snippet with TODOs or you can choose to write your own logic to parse all launch tables:\n"
   ]
  },
  {
   "cell_type": "code",
   "execution_count": 33,
   "metadata": {
    "tags": []
   },
   "outputs": [
    {
     "name": "stdout",
     "output_type": "stream",
     "text": [
      "1\t4 June 2010\t18:45\tF9 v1.0B0003.1\tCCAFS\tDragon Spacecraft Qualification Unit\t0\tLEO\tSpaceX\tSuccess\n",
      "\tFailure\n",
      "2\t8 December 2010\t15:43\tF9 v1.0B0004.1\tCCAFS\tDragon\t0\tLEO\tNASA\tSuccess\tFailure\n",
      "3\t22 May 2012\t07:44\tF9 v1.0B0005.1\tCCAFS\tDragon\t525 kg\tLEO\tNASA\tSuccess\tNo attempt\n",
      "\n",
      "4\t8 October 2012\t00:35\tF9 v1.0B0006.1\tCCAFS\tSpaceX CRS-1\t4,700 kg\tLEO\tNASA\tSuccess\n",
      "\tNo attempt\n",
      "5\t1 March 2013\t15:10\tF9 v1.0B0007.1\tCCAFS\tSpaceX CRS-2\t4,877 kg\tLEO\tNASA\tSuccess\n",
      "\tNo attempt\n",
      "\n",
      "6\t29 September 2013\t16:00\tF9 v1.1B1003\tVAFB\tCASSIOPE\t500 kg\tPolar orbit\tMDA\tSuccess\tUncontrolled\n",
      "7\t3 December 2013\t22:41\tF9 v1.1\tCCAFS\tSES-8\t3,170 kg\tGTO\tSES\tSuccess\tNo attempt\n",
      "8\t6 January 2014\t22:06\tF9 v1.1\tCCAFS\tThaicom 6\t3,325 kg\tGTO\tThaicom\tSuccess\tNo attempt\n",
      "9\t18 April 2014\t19:25\tF9 v1.1\tCape Canaveral\tSpaceX CRS-3\t2,296 kg\tLEO\tNASA\tSuccess\n",
      "\tControlled\n",
      "10\t14 July 2014\t15:15\tF9 v1.1\tCape Canaveral\tOrbcomm-OG2\t1,316 kg\tLEO\tOrbcomm\tSuccess\tControlled\n",
      "11\t5 August 2014\t08:00\tF9 v1.1\tCape Canaveral\tAsiaSat 8\t4,535 kg\tGTO\tAsiaSat\tSuccess\tNo attempt\n",
      "12\t7 September 2014\t05:00\tF9 v1.1\tCape Canaveral\tAsiaSat 6\t4,428 kg\tGTO\tAsiaSat\tSuccess\tNo attempt\n",
      "\n",
      "13\t21 September 2014\t05:52\tF9 v1.1\tCape Canaveral\tSpaceX CRS-4\t2,216 kg\tLEO\tNASA\tSuccess\tUncontrolled\n",
      "14\t10 January 2015\t09:47\tF9 v1.1\tCape Canaveral\tSpaceX CRS-5\t2,395 kg\tLEO\tNASA\tSuccess\tFailure \n",
      "15\t11 February 2015\t23:03\tF9 v1.1\tCape Canaveral\tDSCOVR\t570 kg\tHEO\tUSAF\tSuccess\n",
      "\tControlled\n",
      "16\t2 March 2015\t03:50\tF9 v1.1\tCape Canaveral\tABS-3A\t4,159 kg\tGTO\tABS\tSuccess\n",
      "\tNo attempt\n",
      "17\t14 April 2015\t20:10\tF9 v1.1\tCape Canaveral\tSpaceX CRS-6\t1,898 kg\tLEO\tNASA\tSuccess\n",
      "\tFailure\n",
      "18\t27 April 2015\t23:03\tF9 v1.1\tCape Canaveral\tTürkmenÄlem 52°E / MonacoSAT\t4,707 kg\tGTO\tNone\tSuccess\n",
      "\tNo attempt\n",
      "19\t28 June 2015\t14:21\tF9 v1.1\tCape Canaveral\tSpaceX CRS-7\t1,952 kg\tLEO\tNASA\tFailure\tPrecluded\n",
      "20\t22 December 2015\t01:29\tF9 FT\tCape Canaveral\tOrbcomm-OG2\t2,034 kg\tLEO\tOrbcomm\tSuccess\n",
      "\tSuccess\n",
      "21\t17 January 2016\t18:42\tF9 v1.1\tVAFB\tJason-3\t553 kg\tLEO\tNASA\tSuccess\n",
      "\tFailure\n",
      "22\t4 March 2016\t23:35\tF9 FT\tCape Canaveral\tSES-9\t5,271 kg\tGTO\tSES\tSuccess\n",
      "\tFailure\n",
      "23\t8 April 2016\t20:43\tF9 FT\tCape Canaveral\tSpaceX CRS-8\t3,136 kg\tLEO\tNASA\tSuccess\tSuccess\n",
      "24\t6 May 2016\t05:21\tF9 FT\tCape Canaveral\tJCSAT-14\t4,696 kg\tGTO\tSKY Perfect JSAT Group\tSuccess\n",
      "\tSuccess\n",
      "25\t27 May 2016\t21:39\tF9 FT\tCape Canaveral\tThaicom 8\t3,100 kg\tGTO\tThaicom\tSuccess\n",
      "\tSuccess\n",
      "26\t15 June 2016\t14:29\tF9 FT\tCape Canaveral\tABS-2A\t3,600 kg\tGTO\tABS\tSuccess\n",
      "\tFailure\n",
      "27\t18 July 2016\t04:45\tF9 FT\tCape Canaveral\tSpaceX CRS-9\t2,257 kg\tLEO\tNASA\tSuccess\n",
      "\tSuccess\n",
      "28\t14 August 2016\t05:26\tF9 FT\tCape Canaveral\tJCSAT-16\t4,600 kg\tGTO\tSKY Perfect JSAT Group\tSuccess\n",
      "\tSuccess\n",
      "29\t14 January 2017\t17:54\tF9 FT\tVAFB\tIridium NEXT\t9,600 kg\tPolar\tIridium Communications\tSuccess\n",
      "\tSuccess\n",
      "30\t19 February 2017\t14:39\tF9 FT\tKSC\tSpaceX CRS-10\t2,490 kg\tLEO\tNASA\tSuccess\n",
      "\tSuccess\n",
      "31\t16 March 2017\t06:00\tF9 FT\tKSC\tEchoStar 23\t5,600 kg\tGTO\tEchoStar\tSuccess\n",
      "\tNo attempt\n",
      "32\t30 March 2017\t22:27\tF9 FT♺\tKSC\tSES-10\t5,300 kg\tGTO\tSES\tSuccess\tSuccess\n",
      "33\t1 May 2017\t11:15\tF9 FT\tKSC\tNROL-76\tC\tLEO\tNRO\tSuccess\n",
      "\tSuccess\n",
      "34\t15 May 2017\t23:21\tF9 FT\tKSC\tInmarsat-5 F4\t6,070 kg\tGTO\tInmarsat\tSuccess\n",
      "\tNo attempt\n",
      "35\t3 June 2017\t21:07\tF9 FT\tKSC\tSpaceX CRS-11\t2,708 kg\tLEO\tNASA\tSuccess\n",
      "\tSuccess\n",
      "36\t23 June 2017\t19:10\tF9 FTB1029.2\tKSC\tBulgariaSat-1\t3,669 kg\tGTO\tBulsatcom\tSuccess\n",
      "\tSuccess\n",
      "37\t25 June 2017\t20:25\tF9 FT\tVAFB\tIridium NEXT\t9,600 kg\tLEO\tIridium Communications\tSuccess\n",
      "\tSuccess\n",
      "38\t5 July 2017\t23:38\tF9 FT\tKSC\tIntelsat 35e\t6,761 kg\tGTO\tIntelsat\tSuccess\n",
      "\tNo attempt\n",
      "39\t14 August 2017\t16:31\tF9 B4\tKSC\tSpaceX CRS-12\t3,310 kg\tLEO\tNASA\tSuccess\n",
      "\tSuccess\n",
      "40\t24 August 2017\t18:51\tF9 FT\tVAFB\tFormosat-5\t475 kg\tSSO\tNSPO\tSuccess\n",
      "\tSuccess\n",
      "41\t7 September 2017\t14:00\tF9 B4\tKSC\tBoeing X-37B\t4,990 kg\tLEO\tUSAF\tSuccess\n",
      "\tSuccess\n",
      "42\t9 October 2017\t12:37\tF9 B4\tVAFB\tIridium NEXT\t9,600 kg\tPolar\tIridium Communications\tSuccess\n",
      "\tSuccess\n",
      "43\t11 October 2017\t22:53:00\tF9 FTB1031.2\tKSC\tSES-11\t5,200 kg\tGTO\tSES S.A.\tSuccess\n",
      "\tSuccess\n",
      "44\t30 October 2017\t19:34\tF9 B4\tKSC\tKoreasat 5A\t3,500 kg\tGTO\tKT Corporation\tSuccess\n",
      "\tSuccess\n",
      "45\t15 December 2017\t15:36\tF9 FTB1035.2\tCape Canaveral\tSpaceX CRS-13\t2,205 kg\tLEO\tNASA\tSuccess\n",
      "\tSuccess\n",
      "46\t23 December 2017\t01:27\tF9 FTB1036.2\tVAFB\tIridium NEXT\t9,600 kg\tPolar\tIridium Communications\tSuccess\tControlled\n",
      "47\t8 January 2018\t01:00\tF9 B4\tCCAFS\tZuma\tC\tLEO\tNorthrop Grumman\tSuccess\tSuccess\n",
      "48\t31 January 2018\t21:25\tF9 FTB1032.2\tCCAFS\tGovSat-1\t4,230 kg\tGTO\tSES\tSuccess\tControlled\n",
      "49\t22 February 2018\t14:17\tF9 FTB1038.2\tVAFB\tPaz\t2,150 kg\tSSO\tHisdesat\tSuccess\tNo attempt\n",
      "50\t6 March 2018\t05:33\tF9 B4\tCCAFS\tHispasat 30W-6\t6,092 kg\tGTO\tHispasat\tSuccess\tNo attempt\n",
      "51\t30 March 2018\t14:14\tF9 B4B1041.2\tVAFB\tIridium NEXT\t9,600 kg\tPolar\tIridium Communications\tSuccess\tNo attempt\n",
      "52\t2 April 2018\t20:30\tF9 B4B1039.2\tCCAFS\tSpaceX CRS-14\t2,647 kg\tLEO\tNASA\tSuccess\tNo attempt\n",
      "53\t18 April 2018\t22:51\tF9 B4\tCCAFS\tTransiting Exoplanet Survey Satellite\t362 kg\tHEO\tNASA\tSuccess\tSuccess\n",
      "54\t11 May 2018\t20:14\tF9 B5B1046.1\tKSC\tBangabandhu-1\t3,600 kg\tGTO\tThales-Alenia\tSuccess\tSuccess\n",
      "55\t22 May 2018\t19:47\tF9 B4B1043.2\tVAFB\tIridium NEXT\t6,460 kg\tPolar\tIridium Communications\tSuccess\tNo attempt\n",
      "56\t4 June 2018\t04:45\tF9 B4B1040.2\tCCAFS\tSES-12\t5,384 kg\tGTO\tSES\tSuccess\tNo attempt\n",
      "57\t29 June 2018\t09:42\tF9 B4B1045.2\tCCAFS\tSpaceX CRS-15\t2,697 kg\tLEO\tNASA\tSuccess\tNo attempt\n",
      "58\t22 July 2018\t05:50\tF9 B5\tCCAFS\tTelstar 19V\t7,075 kg\tGTO\tTelesat\tSuccess\tSuccess\n",
      "59\t25 July 2018\t11:39\tF9 B5B1048\tVAFB\tIridium NEXT\t9,600 kg\tPolar\tIridium Communications\tSuccess\tSuccess\n",
      "60\t7 August 2018\t05:18\tF9 B5B1046.2\tCCAFS\tMerah Putih\t5,800 kg\tGTO\tTelkom Indonesia\tSuccess\tSuccess\n",
      "61\t10 September 2018\t04:45\tF9 B5\tCCAFS\tTelstar 18V\t7,060 kg\tGTO\tTelesat\tSuccess\tSuccess\n",
      "62\t8 October 2018\t02:22\tF9 B5B1048.2\tVAFB\tSAOCOM 1A\t3,000 kg\tSSO\tCONAE\tSuccess\tSuccess\n",
      "63\t15 November 2018\t20:46\tF9 B5B1047.2\tKSC\tEs'hail 2\t5,300 kg\tGTO\tEs'hailSat\tSuccess\tSuccess\n",
      "64\t3 December 2018\t18:34:05\tF9 B5B1046.3\tVAFB\tSSO-A\t~4,000 kg\tSSO\tSpaceflight Industries\tSuccess\tSuccess\n",
      "65\t5 December 2018\t18:16\tF9 B5\tCCAFS\tSpaceX CRS-16\t2,500 kg\tLEO\tNASA\tSuccess\n",
      "\tFailure\n",
      "66\t23 December 2018\t13:51\tF9 B5\tCCAFS\tGPS III\t4,400 kg\tMEO\tUSAF\tSuccess\tNo attempt\n",
      "67\t11 January 2019\t15:31\tF9 B5B1049.2\tVAFB\tIridium NEXT\t9,600 kg\tPolar\tIridium Communications\tSuccess\n",
      "\tSuccess\n",
      "68\t22 February 2019\t01:45\tF9 B5B1048.3\tCCAFS\tNusantara Satu\t4,850 kg\tGTO\tPSN\tSuccess\n",
      "\tSuccess\n",
      "69\t2 March 2019\t07:49\tF9 B5[268]\tKSC\tCrew Dragon Demo-1\t12,055 kg\tLEO\tNASA\tSuccess\n",
      "\tSuccess\n",
      "70\t4 May 2019\t06:48\tF9 B5\tCCAFS\tSpaceX CRS-17\t2,495 kg\tLEO\tNASA\tSuccess\n",
      "\tSuccess\n",
      "71\t24 May 2019\t02:30\tF9 B5B1049.3\tCCAFS\tStarlink\t13,620 kg\tLEO\tSpaceX\tSuccess\n",
      "\tSuccess\n",
      "72\t12 June 2019\t14:17\tF9 B5B1051.2\tVAFB\tRADARSAT Constellation\t4,200 kg\tSSO\tCanadian Space Agency\tSuccess\n",
      "\tSuccess\n",
      "73\t25 July 2019\t22:01\tF9 B5B1056.2\tCCAFS\tSpaceX CRS-18\t2,268 kg\tLEO\tNASA\tSuccess\n",
      "\tSuccess\n",
      "74\t6 August 2019\t23:23\tF9 B5B1047.3\tCCAFS\tAMOS-17\t6,500 kg\tGTO\tSpacecom\tSuccess\n",
      "\tNo attempt\n",
      "75\t11 November 2019\t14:56\tF9 B5\tCCAFS\tStarlink\t15,600 kg\tLEO\tSpaceX\tSuccess\n",
      "\tSuccess\n",
      "76\t5 December 2019\t17:29\tF9 B5\tCCAFS\tSpaceX CRS-19\t2,617 kg\tLEO\tNASA\tSuccess\n",
      "\tSuccess\n",
      "77\t17 December 2019\t00:10\tF9 B5B1056.3\tCCAFS\tJCSat-18\t6,956 kg\tGTO\tSky Perfect JSAT\tSuccess\n",
      "\tSuccess\n",
      "78\t7 January 2020\t02:19:21\tF9 B5\tCCAFS\tStarlink\t15,600 kg\tLEO\tSpaceX\tSuccess\n",
      "\tSuccess\n",
      "79\t19 January 2020\t15:30\tF9 B5\tKSC\tCrew Dragon in-flight abort test\t12,050 kg\tSub-orbital\tNASA\tSuccess\n",
      "\tNo attempt\n",
      "\n",
      "80\t29 January 2020\t14:07\tF9 B5\tCCAFS\tStarlink\t15,600 kg\tLEO\tSpaceX\tSuccess\n",
      "\tSuccess\n",
      "81\t17 February 2020\t15:05\tF9 B5\tCCAFS\tStarlink\t15,600 kg\tLEO\tSpaceX\tSuccess\n",
      "\tFailure\n",
      "82\t7 March 2020\t04:50\tF9 B5\tCCAFS\tSpaceX CRS-20\t1,977 kg\tLEO\tNASA\tSuccess\n",
      "\tSuccess\n",
      "83\t18 March 2020\t12:16\tF9 B5\tKSC\tStarlink\t15,600 kg\tLEO\tSpaceX\tSuccess\n",
      "\tFailure\n",
      "84\t22 April 2020\t19:30\tF9 B5\tKSC\tStarlink\t15,600 kg\tLEO\tSpaceX\tSuccess\n",
      "\tSuccess\n",
      "85\t30 May 2020\t19:22\tF9 B5\tKSC\tCrew Dragon Demo-2\t12,530 kg\tLEO\tNASA\tSuccess\n",
      "\tSuccess\n",
      "86\t4 June 2020\t01:25\tF9 B5\tCCAFS\tStarlink\t15,600 kg\tLEO\tSpaceX\tSuccess\n",
      "\tSuccess\n",
      "87\t13 June 2020\t09:21\tF9 B5\tCCAFS\tStarlink\t15,410 kg\tLEO\tSpaceX\tSuccess\n",
      "\tSuccess\n",
      "88\t30 June 2020\t20:10:46\tF9 B5\tCCAFS\tGPS III\t4,311 kg\tMEO\tU.S. Space Force\tSuccess\n",
      "\tSuccess\n",
      "89\t20 July 2020\t21:30\tF9 B5B1058.2\tCCAFS\tANASIS-II\t5,000–6,000 kg\tGTO\tRepublic of Korea Army\tSuccess\n",
      "\tSuccess\n",
      "90\t7 August 2020\t05:12\tF9 B5\tKSC\tStarlink\t14,932 kg\tLEO\tSpaceX\tSuccess\n",
      "\tSuccess\n",
      "91\t18 August 2020\t14:31\tF9 B5B1049.6\tCCAFS\tStarlink\t~15,440 kg\tLEO\tSpaceX\tSuccess\n",
      "\tSuccess\n",
      "92\t30 August 2020\t23:18\tF9 B5\tCCAFS\tSAOCOM 1B\t3,130 kg\tSSO\tCONAE\tSuccess\n",
      "\tSuccess\n",
      "93\t3 September 2020\t12:46:14\tF9 B5B1060.2\tKSC\tStarlink\t15,600 kg\tLEO\tSpaceX\tSuccess\n",
      "\tSuccess\n",
      "94\t6 October 2020\t11:29:34\tF9 B5B1058.3\tKSC\tStarlink\t15,600 kg\tLEO\tSpaceX\tSuccess\n",
      "\tSuccess\n",
      "95\t18 October 2020\t12:25:57\tF9 B5B1051.6\tKSC\tStarlink\t15,600 kg\tLEO\tSpaceX\tSuccess\n",
      "\tSuccess\n",
      "96\t24 October 2020\t15:31:34\tF9 B5\tCCAFS\tStarlink\t15,600 kg\tLEO\tSpaceX\tSuccess\n",
      "\tSuccess\n",
      "97\t5 November 2020\t23:24:23\tF9 B5\tCCAFS\tGPS III\t4,311 kg\tMEO\tUSSF\tSuccess\n",
      "\tSuccess\n",
      "98\t16 November 2020\t00:27\tF9 B5\tKSC\tCrew-1\t~12,500 kg\tLEO\tNASA\tSuccess\n",
      "\tSuccess\n",
      "99\t21 November 2020\t17:17:08\tF9 B5\tVAFB\tSentinel-6 Michael Freilich (Jason-CS A)\t1,192 kg\tLEO\tNASA\tSuccess\n",
      "\tSuccess\n",
      "100\t25 November 2020\t02:13\tF9 B5 ♺\tCCAFS\tStarlink\t15,600 kg\tLEO\tSpaceX\tSuccess\n",
      "\tSuccess\n",
      "101\t6 December 2020\t16:17:08\tF9 B5 ♺\tKSC\tSpaceX CRS-21\t2,972 kg\tLEO\tNASA\tSuccess\n",
      "\tSuccess\n",
      "102\t13 December 2020\t17:30:00\tF9 B5 ♺\tCCSFS\tSXM-7\t7,000 kg\tGTO\tSirius XM\tSuccess\n",
      "\tSuccess\n",
      "103\t19 December 2020\t14:00:00\tF9 B5 ♺\tKSC\tNROL-108\tC\tLEO\tNRO\tSuccess\n",
      "\tSuccess\n",
      "104\t8 January 2021\t02:15\tF9 B5\tCCSFS\tTürksat 5A\t3,500 kg\tGTO\tTürksat\tSuccess\n",
      "\tSuccess\n",
      "105\t20 January 2021\t13:02\tF9 B5B1051.8\tKSC\tStarlink\t15,600 kg\tLEO\tSpaceX\tSuccess\n",
      "\tSuccess\n",
      "106\t24 January 2021\t15:00\tF9 B5B1058.5\tCCSFS\tTransporter-1\t~5,000 kg\tSSO\tVarious\n",
      "\tSuccess\n",
      "\tSuccess\n",
      "107\t4 February 2021\t06:19\tF9 B5 ♺\tCCSFS\tStarlink\t15,600 kg\tLEO\tSpaceX\tSuccess\n",
      "\tSuccess\n",
      "108\t16 February 2021\t03:59:37\tF9 B5 ♺\tCCSFS\tStarlink\t15,600 kg\tLEO\tSpaceX\tSuccess\n",
      "\tFailure\n",
      "109\t4 March 2021\t08:24\tF9 B5 ♺\tKSC\tStarlink\t15,600 kg\tLEO\tSpaceX\tSuccess\n",
      "\tSuccess\n",
      "110\t11 March 2021\t08:13:29\tF9 B5 ♺\tCCSFS\tStarlink\t15,600 kg\tLEO\tSpaceX\tSuccess\n",
      "\tSuccess\n",
      "111\t14 March 2021\t10:01\tF9 B5 ♺\tKSC\tStarlink\t15,600 kg\tLEO\tSpaceX\tSuccess\n",
      "\tSuccess\n",
      "112\t24 March 2021\t08:28\tF9 B5B1060.6\tCCSFS\tStarlink\t15,600 kg\tLEO\tSpaceX\tSuccess\n",
      "\tSuccess\n",
      "113\t7 April 2021\t16:34\tF9 B5 ♺\tCCSFS\tStarlink\t15,600 kg\tLEO\tSpaceX\tSuccess\n",
      "\tSuccess\n",
      "114\t23 April 2021\t9:49\tF9 B5B1061.2\tKSC\tCrew-2\t~13,000 kg\tLEO\tNASA\tSuccess\n",
      "\tSuccess\n",
      "115\t29 April 2021\t03:44\tF9 B5B1060.7\tCCSFS\tStarlink\t15,600 kg\tLEO\tSpaceX\tSuccess\n",
      "\tSuccess\n",
      "116\t4 May 2021\t19:01\tF9 B5B1049.9\tKSC\tStarlink\t15,600 kg\tLEO\tSpaceX\tSuccess\n",
      "\tSuccess\n",
      "117\t9 May 2021\t06:42\tF9 B5B1051.10\tCCSFS\tStarlink\t15,600 kg\tLEO\tSpaceX\tSuccess\n",
      "\tSuccess\n",
      "118\t15 May 2021\t22:56\tF9 B5B1058.8\tKSC\tStarlink\t~14,000 kg\tLEO\tSpaceX\tSuccess\n",
      "\tSuccess\n",
      "119\t26 May 2021\t18:59\tF9 B5B1063.2\tCCSFS\tStarlink\t15,600 kg\tLEO\tSpaceX\tSuccess\n",
      "\tSuccess\n",
      "120\t3 June 2021\t17:29\tF9 B5B1067.1\tKSC\tSpaceX CRS-22\t3,328 kg\tLEO\tNASA\tSuccess\n",
      "\tSuccess\n",
      "121\t6 June 2021\t04:26\tF9 B5\tCCSFS\tSXM-8\t7,000 kg\tGTO\tSirius XM\tSuccess\n",
      "\tSuccess\n"
     ]
    }
   ],
   "source": [
    "extracted_row = 0\n",
    "#Extract each table \n",
    "for table_number,table in enumerate(soup.find_all('table',\"wikitable plainrowheaders collapsible\")):\n",
    "   # get table row \n",
    "    for rows in table.find_all(\"tr\"):\n",
    "        #check to see if first table heading is as number corresponding to launch a number \n",
    "        if rows.th:\n",
    "            if rows.th.string:\n",
    "                flight_number=rows.th.string.strip()\n",
    "                flag=flight_number.isdigit()\n",
    "        else:\n",
    "            flag=False\n",
    "        #get table element \n",
    "        row=rows.find_all('td')\n",
    "        #if it is number save cells in a dictonary \n",
    "        if flag:\n",
    "            extracted_row += 1\n",
    "            # Flight Number value\n",
    "            # TODO: Append the flight_number into launch_dict with key `Flight No.`\n",
    "            launch_dict['Flight No.'].append(flight_number)\n",
    "            print(flight_number, end='\\t')\n",
    "            datatimelist=date_time(row[0])\n",
    "            \n",
    "            # Date value\n",
    "            # TODO: Append the date into launch_dict with key `Date`\n",
    "            date = datatimelist[0].strip(',')\n",
    "            launch_dict['Date'].append(date)\n",
    "            print(date, end='\\t')\n",
    "            \n",
    "            # Time value\n",
    "            # TODO: Append the time into launch_dict with key `Time`\n",
    "            time = datatimelist[1]\n",
    "            launch_dict['Time'].append(time)\n",
    "            print(time, end='\\t')\n",
    "              \n",
    "            # Booster version\n",
    "            # TODO: Append the bv into launch_dict with key `Version Booster`\n",
    "            bv=booster_version(row[1])\n",
    "            if not(bv):\n",
    "                bv=row[1].a.string\n",
    "            launch_dict['Version Booster'].append(bv)\n",
    "            print(bv , end='\\t')\n",
    "            \n",
    "            # Launch Site\n",
    "            # TODO: Append the bv into launch_dict with key `Launch Site`\n",
    "            launch_site = row[2].a.string\n",
    "            launch_dict['Launch site'].append(launch_site)\n",
    "            print(launch_site , end='\\t')\n",
    "            \n",
    "            # Payload\n",
    "            # TODO: Append the payload into launch_dict with key `Payload`\n",
    "            payload = row[3].a.string\n",
    "            launch_dict['Payload'].append(payload)\n",
    "            print(payload , end='\\t')\n",
    "            \n",
    "            # Payload Mass\n",
    "            # TODO: Append the payload_mass into launch_dict with key `Payload mass`\n",
    "            payload_mass = get_mass(row[4])\n",
    "            launch_dict['Payload mass'].append(payload_mass)\n",
    "            print(payload_mass, end='\\t')\n",
    "            \n",
    "            # Orbit\n",
    "            # TODO: Append the orbit into launch_dict with key `Orbit`\n",
    "            orbit = row[5].a.string\n",
    "            launch_dict['Orbit'].append(orbit)\n",
    "            print(orbit,end='\\t')\n",
    "            \n",
    "            # Customer\n",
    "            # TODO: Append the customer into launch_dict with key `Customer`\n",
    "            try:customer = row[6].a.string\n",
    "            except: customer=row[6].string\n",
    "            launch_dict['Customer'].append(customer)\n",
    "            print(customer, end='\\t')\n",
    "            \n",
    "            # Launch outcome\n",
    "            # TODO: Append the launch_outcome into launch_dict with key `Launch outcome`\n",
    "            launch_outcome = list(row[7].strings)[0]\n",
    "            launch_dict['Launch outcome'].append(launch_outcome)\n",
    "            print(launch_outcome,end='\\t')\n",
    "            \n",
    "            # Booster landing\n",
    "            # TODO: Append the launch_outcome into launch_dict with key `Booster landing`\n",
    "            booster_landing = landing_status(row[8])\n",
    "            launch_dict['Booster landing'].append(booster_landing)\n",
    "            print(booster_landing)\n",
    "            "
   ]
  },
  {
   "cell_type": "markdown",
   "metadata": {},
   "source": [
    "After you have fill in the parsed launch record values into `launch_dict`, you can create a dataframe from it.\n"
   ]
  },
  {
   "cell_type": "code",
   "execution_count": 36,
   "metadata": {
    "tags": []
   },
   "outputs": [
    {
     "data": {
      "text/html": [
       "<div>\n",
       "<style scoped>\n",
       "    .dataframe tbody tr th:only-of-type {\n",
       "        vertical-align: middle;\n",
       "    }\n",
       "\n",
       "    .dataframe tbody tr th {\n",
       "        vertical-align: top;\n",
       "    }\n",
       "\n",
       "    .dataframe thead th {\n",
       "        text-align: right;\n",
       "    }\n",
       "</style>\n",
       "<table border=\"1\" class=\"dataframe\">\n",
       "  <thead>\n",
       "    <tr style=\"text-align: right;\">\n",
       "      <th></th>\n",
       "      <th>Flight No.</th>\n",
       "      <th>Launch site</th>\n",
       "      <th>Payload</th>\n",
       "      <th>Payload mass</th>\n",
       "      <th>Orbit</th>\n",
       "      <th>Customer</th>\n",
       "      <th>Launch outcome</th>\n",
       "      <th>Version Booster</th>\n",
       "      <th>Booster landing</th>\n",
       "      <th>Date</th>\n",
       "      <th>Time</th>\n",
       "    </tr>\n",
       "  </thead>\n",
       "  <tbody>\n",
       "    <tr>\n",
       "      <th>0</th>\n",
       "      <td>1</td>\n",
       "      <td>CCAFS</td>\n",
       "      <td>Dragon Spacecraft Qualification Unit</td>\n",
       "      <td>0</td>\n",
       "      <td>LEO</td>\n",
       "      <td>SpaceX</td>\n",
       "      <td>Success\\n</td>\n",
       "      <td>F9 v1.0B0003.1</td>\n",
       "      <td>Failure</td>\n",
       "      <td>4 June 2010</td>\n",
       "      <td>18:45</td>\n",
       "    </tr>\n",
       "    <tr>\n",
       "      <th>1</th>\n",
       "      <td>2</td>\n",
       "      <td>CCAFS</td>\n",
       "      <td>Dragon</td>\n",
       "      <td>0</td>\n",
       "      <td>LEO</td>\n",
       "      <td>NASA</td>\n",
       "      <td>Success</td>\n",
       "      <td>F9 v1.0B0004.1</td>\n",
       "      <td>Failure</td>\n",
       "      <td>8 December 2010</td>\n",
       "      <td>15:43</td>\n",
       "    </tr>\n",
       "    <tr>\n",
       "      <th>2</th>\n",
       "      <td>3</td>\n",
       "      <td>CCAFS</td>\n",
       "      <td>Dragon</td>\n",
       "      <td>525 kg</td>\n",
       "      <td>LEO</td>\n",
       "      <td>NASA</td>\n",
       "      <td>Success</td>\n",
       "      <td>F9 v1.0B0005.1</td>\n",
       "      <td>No attempt\\n</td>\n",
       "      <td>22 May 2012</td>\n",
       "      <td>07:44</td>\n",
       "    </tr>\n",
       "    <tr>\n",
       "      <th>3</th>\n",
       "      <td>4</td>\n",
       "      <td>CCAFS</td>\n",
       "      <td>SpaceX CRS-1</td>\n",
       "      <td>4,700 kg</td>\n",
       "      <td>LEO</td>\n",
       "      <td>NASA</td>\n",
       "      <td>Success\\n</td>\n",
       "      <td>F9 v1.0B0006.1</td>\n",
       "      <td>No attempt</td>\n",
       "      <td>8 October 2012</td>\n",
       "      <td>00:35</td>\n",
       "    </tr>\n",
       "    <tr>\n",
       "      <th>4</th>\n",
       "      <td>5</td>\n",
       "      <td>CCAFS</td>\n",
       "      <td>SpaceX CRS-2</td>\n",
       "      <td>4,877 kg</td>\n",
       "      <td>LEO</td>\n",
       "      <td>NASA</td>\n",
       "      <td>Success\\n</td>\n",
       "      <td>F9 v1.0B0007.1</td>\n",
       "      <td>No attempt\\n</td>\n",
       "      <td>1 March 2013</td>\n",
       "      <td>15:10</td>\n",
       "    </tr>\n",
       "    <tr>\n",
       "      <th>...</th>\n",
       "      <td>...</td>\n",
       "      <td>...</td>\n",
       "      <td>...</td>\n",
       "      <td>...</td>\n",
       "      <td>...</td>\n",
       "      <td>...</td>\n",
       "      <td>...</td>\n",
       "      <td>...</td>\n",
       "      <td>...</td>\n",
       "      <td>...</td>\n",
       "      <td>...</td>\n",
       "    </tr>\n",
       "    <tr>\n",
       "      <th>116</th>\n",
       "      <td>117</td>\n",
       "      <td>CCSFS</td>\n",
       "      <td>Starlink</td>\n",
       "      <td>15,600 kg</td>\n",
       "      <td>LEO</td>\n",
       "      <td>SpaceX</td>\n",
       "      <td>Success\\n</td>\n",
       "      <td>F9 B5B1051.10</td>\n",
       "      <td>Success</td>\n",
       "      <td>9 May 2021</td>\n",
       "      <td>06:42</td>\n",
       "    </tr>\n",
       "    <tr>\n",
       "      <th>117</th>\n",
       "      <td>118</td>\n",
       "      <td>KSC</td>\n",
       "      <td>Starlink</td>\n",
       "      <td>~14,000 kg</td>\n",
       "      <td>LEO</td>\n",
       "      <td>SpaceX</td>\n",
       "      <td>Success\\n</td>\n",
       "      <td>F9 B5B1058.8</td>\n",
       "      <td>Success</td>\n",
       "      <td>15 May 2021</td>\n",
       "      <td>22:56</td>\n",
       "    </tr>\n",
       "    <tr>\n",
       "      <th>118</th>\n",
       "      <td>119</td>\n",
       "      <td>CCSFS</td>\n",
       "      <td>Starlink</td>\n",
       "      <td>15,600 kg</td>\n",
       "      <td>LEO</td>\n",
       "      <td>SpaceX</td>\n",
       "      <td>Success\\n</td>\n",
       "      <td>F9 B5B1063.2</td>\n",
       "      <td>Success</td>\n",
       "      <td>26 May 2021</td>\n",
       "      <td>18:59</td>\n",
       "    </tr>\n",
       "    <tr>\n",
       "      <th>119</th>\n",
       "      <td>120</td>\n",
       "      <td>KSC</td>\n",
       "      <td>SpaceX CRS-22</td>\n",
       "      <td>3,328 kg</td>\n",
       "      <td>LEO</td>\n",
       "      <td>NASA</td>\n",
       "      <td>Success\\n</td>\n",
       "      <td>F9 B5B1067.1</td>\n",
       "      <td>Success</td>\n",
       "      <td>3 June 2021</td>\n",
       "      <td>17:29</td>\n",
       "    </tr>\n",
       "    <tr>\n",
       "      <th>120</th>\n",
       "      <td>121</td>\n",
       "      <td>CCSFS</td>\n",
       "      <td>SXM-8</td>\n",
       "      <td>7,000 kg</td>\n",
       "      <td>GTO</td>\n",
       "      <td>Sirius XM</td>\n",
       "      <td>Success\\n</td>\n",
       "      <td>F9 B5</td>\n",
       "      <td>Success</td>\n",
       "      <td>6 June 2021</td>\n",
       "      <td>04:26</td>\n",
       "    </tr>\n",
       "  </tbody>\n",
       "</table>\n",
       "<p>121 rows × 11 columns</p>\n",
       "</div>"
      ],
      "text/plain": [
       "    Flight No. Launch site                               Payload Payload mass  \\\n",
       "0            1       CCAFS  Dragon Spacecraft Qualification Unit            0   \n",
       "1            2       CCAFS                                Dragon            0   \n",
       "2            3       CCAFS                                Dragon       525 kg   \n",
       "3            4       CCAFS                          SpaceX CRS-1     4,700 kg   \n",
       "4            5       CCAFS                          SpaceX CRS-2     4,877 kg   \n",
       "..         ...         ...                                   ...          ...   \n",
       "116        117       CCSFS                              Starlink    15,600 kg   \n",
       "117        118         KSC                              Starlink   ~14,000 kg   \n",
       "118        119       CCSFS                              Starlink    15,600 kg   \n",
       "119        120         KSC                         SpaceX CRS-22     3,328 kg   \n",
       "120        121       CCSFS                                 SXM-8     7,000 kg   \n",
       "\n",
       "    Orbit   Customer Launch outcome Version Booster Booster landing  \\\n",
       "0     LEO     SpaceX      Success\\n  F9 v1.0B0003.1         Failure   \n",
       "1     LEO       NASA        Success  F9 v1.0B0004.1         Failure   \n",
       "2     LEO       NASA        Success  F9 v1.0B0005.1    No attempt\\n   \n",
       "3     LEO       NASA      Success\\n  F9 v1.0B0006.1      No attempt   \n",
       "4     LEO       NASA      Success\\n  F9 v1.0B0007.1    No attempt\\n   \n",
       "..    ...        ...            ...             ...             ...   \n",
       "116   LEO     SpaceX      Success\\n   F9 B5B1051.10         Success   \n",
       "117   LEO     SpaceX      Success\\n    F9 B5B1058.8         Success   \n",
       "118   LEO     SpaceX      Success\\n    F9 B5B1063.2         Success   \n",
       "119   LEO       NASA      Success\\n    F9 B5B1067.1         Success   \n",
       "120   GTO  Sirius XM      Success\\n           F9 B5         Success   \n",
       "\n",
       "                Date   Time  \n",
       "0        4 June 2010  18:45  \n",
       "1    8 December 2010  15:43  \n",
       "2        22 May 2012  07:44  \n",
       "3     8 October 2012  00:35  \n",
       "4       1 March 2013  15:10  \n",
       "..               ...    ...  \n",
       "116       9 May 2021  06:42  \n",
       "117      15 May 2021  22:56  \n",
       "118      26 May 2021  18:59  \n",
       "119      3 June 2021  17:29  \n",
       "120      6 June 2021  04:26  \n",
       "\n",
       "[121 rows x 11 columns]"
      ]
     },
     "execution_count": 36,
     "metadata": {},
     "output_type": "execute_result"
    }
   ],
   "source": [
    "df= pd.DataFrame({ key:pd.Series(value) for key, value in launch_dict.items() })\n",
    "# df=pd.DataFrame(launch_dict)\n",
    "df"
   ]
  },
  {
   "cell_type": "markdown",
   "metadata": {},
   "source": [
    "We can now export it to a <b>CSV</b> for the next section, but to make the answers consistent and in case you have difficulties finishing this lab. \n",
    "\n",
    "Following labs will be using a provided dataset to make each lab independent. \n"
   ]
  },
  {
   "cell_type": "markdown",
   "metadata": {},
   "source": [
    "<code>df.to_csv('spacex_web_scraped.csv', index=False)</code>\n"
   ]
  },
  {
   "cell_type": "markdown",
   "metadata": {},
   "source": [
    "## Authors\n"
   ]
  },
  {
   "cell_type": "markdown",
   "metadata": {},
   "source": [
    "<a href=\"https://www.linkedin.com/in/yan-luo-96288783/\">Yan Luo</a>\n"
   ]
  },
  {
   "cell_type": "markdown",
   "metadata": {},
   "source": [
    "<a href=\"https://www.linkedin.com/in/nayefaboutayoun/\">Nayef Abou Tayoun</a>\n"
   ]
  },
  {
   "cell_type": "markdown",
   "metadata": {},
   "source": [
    "## Change Log\n"
   ]
  },
  {
   "cell_type": "markdown",
   "metadata": {},
   "source": [
    "| Date (YYYY-MM-DD) | Version | Changed By | Change Description      |\n",
    "| ----------------- | ------- | ---------- | ----------------------- |\n",
    "| 2021-06-09        | 1.0     | Yan Luo    | Tasks updates           |\n",
    "| 2020-11-10        | 1.0     | Nayef      | Created the initial version |\n"
   ]
  },
  {
   "cell_type": "markdown",
   "metadata": {},
   "source": [
    "Copyright © 2021 IBM Corporation. All rights reserved.\n"
   ]
  }
 ],
 "metadata": {
  "kernelspec": {
   "display_name": "Python",
   "language": "python",
   "name": "conda-env-python-py"
  },
  "language_info": {
   "codemirror_mode": {
    "name": "ipython",
    "version": 3
   },
   "file_extension": ".py",
   "mimetype": "text/x-python",
   "name": "python",
   "nbconvert_exporter": "python",
   "pygments_lexer": "ipython3",
   "version": "3.7.12"
  }
 },
 "nbformat": 4,
 "nbformat_minor": 4
}
